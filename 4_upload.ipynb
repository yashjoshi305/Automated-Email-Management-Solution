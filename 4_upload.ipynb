{
 "cells": [
  {
   "cell_type": "code",
   "execution_count": 6,
   "id": "1702f620",
   "metadata": {},
   "outputs": [],
   "source": [
    "import pandas as pd\n",
    "from google.cloud import bigquery\n",
    "from google.oauth2 import service_account\n",
    "from pandas_gbq import to_gbq\n",
    "from datetime import datetime\n",
    "import configparser\n",
    "import json"
   ]
  },
  {
   "cell_type": "code",
   "execution_count": null,
   "id": "d49e97e8",
   "metadata": {},
   "outputs": [],
   "source": [
    "df = pd.read_pickle('emails.pkl')\n",
    "df2 = pd.read_pickle('type.pkl')"
   ]
  },
  {
   "cell_type": "code",
   "execution_count": null,
   "id": "96a87328",
   "metadata": {},
   "outputs": [
    {
     "name": "stderr",
     "output_type": "stream",
     "text": [
      "100%|██████████| 1/1 [00:00<?, ?it/s]\n",
      "100%|██████████| 1/1 [00:00<00:00, 1046.74it/s]"
     ]
    },
    {
     "name": "stdout",
     "output_type": "stream",
     "text": [
      "DataFrame written to BigQuery table: fetchemail-3005.Logs.email_fetch_20250410_202131 , fetchemail-3005.Logs.email_type_20250410_202131using OAuth 2.0 credentials from: fetchemail-3005-822740b3bf5b.json\n"
     ]
    },
    {
     "name": "stderr",
     "output_type": "stream",
     "text": [
      "\n"
     ]
    }
   ],
   "source": [
    "project_id = 'fetchemail-3005'\n",
    "\n",
    "now = datetime.now()\n",
    "timestamp_str = now.strftime(\"%Y%m%d_%H%M%S\")\n",
    "table_id1 = f'fetchemail-3005.Logs.email_fetch_{timestamp_str}'\n",
    "table_id2 = f'fetchemail-3005.Logs.email_type_{timestamp_str}'\n",
    "\n",
    "config = configparser.ConfigParser()\n",
    "config.read(\"app.config\")\n",
    "service_account_credentials_path = config['upload']['service_account_credentials_path']\n",
    "\n",
    "\n",
    "\n",
    "try:\n",
    "  \n",
    "    credentials = service_account.Credentials.from_service_account_file(service_account_credentials_path)\n",
    "\n",
    "    if not credentials.scopes:\n",
    "        credentials = credentials.with_scopes(\n",
    "            [\"https://www.googleapis.com/auth/bigquery\"]\n",
    "        )\n",
    "\n",
    "    \n",
    "    client = bigquery.Client(credentials=credentials, project=project_id)\n",
    "\n",
    "\n",
    "    to_gbq(df, table_id1, project_id=project_id, if_exists='replace', credentials=credentials)\n",
    "    to_gbq(df2, table_id2, project_id=project_id, if_exists='replace', credentials=credentials)\n",
    "    print(f\"DataFrame written to BigQuery table: {table_id1} , {table_id2}using OAuth 2.0 credentials from: {service_account_credentials_path}\")\n",
    "\n",
    "except Exception as e:\n",
    "    print(f\"An error occurred during BigQuery upload with OAuth 2.0 credentials: {e}\")"
   ]
  }
 ],
 "metadata": {
  "kernelspec": {
   "display_name": "Python 3",
   "language": "python",
   "name": "python3"
  },
  "language_info": {
   "codemirror_mode": {
    "name": "ipython",
    "version": 3
   },
   "file_extension": ".py",
   "mimetype": "text/x-python",
   "name": "python",
   "nbconvert_exporter": "python",
   "pygments_lexer": "ipython3",
   "version": "3.11.5"
  }
 },
 "nbformat": 4,
 "nbformat_minor": 5
}
