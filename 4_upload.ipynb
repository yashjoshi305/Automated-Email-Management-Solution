{
 "cells": [
  {
   "cell_type": "code",
   "execution_count": 2,
   "id": "3733ed47",
   "metadata": {},
   "outputs": [],
   "source": [
    "from google.cloud import bigquery\n",
    "from google.oauth2 import service_account\n",
    "from pandas_gbq import to_gbq\n",
    "import pandas as pd"
   ]
  },
  {
   "cell_type": "code",
   "execution_count": 15,
   "id": "6ef5e403",
   "metadata": {},
   "outputs": [],
   "source": [
    "def upload(df) :\n",
    "    project_id = 'fetchemail-3005'\n",
    "    table_id = 'fetchemail-3005.Logs.fetch'\n",
    "    credentials = service_account.Credentials.from_service_account_file(\n",
    "        'client_secret.json',\n",
    "    )\n",
    "\n",
    "    df.to_gbq(table_id, project_id, if_exists=\"append\" , credentials= credentials)\n",
    "    return 'sucess'\n"
   ]
  },
  {
   "cell_type": "code",
   "execution_count": 29,
   "id": "d49e97e8",
   "metadata": {},
   "outputs": [],
   "source": [
    "df = pd.read_pickle('emails.pkl')\n",
    "df2 = pd.read_pickle('type.pkl')\n"
   ]
  },
  {
   "cell_type": "code",
   "execution_count": 31,
   "id": "96a87328",
   "metadata": {},
   "outputs": [
    {
     "name": "stderr",
     "output_type": "stream",
     "text": [
      "100%|██████████| 1/1 [00:00<?, ?it/s]\n",
      "100%|██████████| 1/1 [00:00<00:00, 1046.74it/s]"
     ]
    },
    {
     "name": "stdout",
     "output_type": "stream",
     "text": [
      "DataFrame written to BigQuery table: fetchemail-3005.Logs.email_fetch_20250410_202131 , fetchemail-3005.Logs.email_type_20250410_202131using OAuth 2.0 credentials from: fetchemail-3005-822740b3bf5b.json\n"
     ]
    },
    {
     "name": "stderr",
     "output_type": "stream",
     "text": [
      "\n"
     ]
    }
   ],
   "source": [
    "import pandas as pd\n",
    "from google.cloud import bigquery\n",
    "from google.oauth2 import service_account\n",
    "from pandas_gbq import to_gbq\n",
    "from datetime import datetime\n",
    "\n",
    "\n",
    "project_id = 'fetchemail-3005'\n",
    "\n",
    "now = datetime.now()\n",
    "timestamp_str = now.strftime(\"%Y%m%d_%H%M%S\")\n",
    "table_id1 = f'fetchemail-3005.Logs.email_fetch_{timestamp_str}'\n",
    "table_id2 = f'fetchemail-3005.Logs.email_type_{timestamp_str}'\n",
    "\n",
    "# Path to your OAuth 2.0 client secrets JSON file\n",
    "oauth_credentials_path = 'fetchemail-3005-822740b3bf5b.json'  # Replace with the actual path\n",
    "\n",
    "\n",
    "\n",
    "try:\n",
    "    # Load OAuth 2.0 client secrets from the JSON file\n",
    "    credentials = service_account.Credentials.from_service_account_file(oauth_credentials_path)\n",
    "\n",
    "    # Ensure the credentials have the necessary scopes for BigQuery\n",
    "    if not credentials.scopes:\n",
    "        credentials = credentials.with_scopes(\n",
    "            [\"https://www.googleapis.com/auth/bigquery\"]\n",
    "        )\n",
    "\n",
    "    # Create a BigQuery client using the loaded credentials\n",
    "    client = bigquery.Client(credentials=credentials, project=project_id)\n",
    "\n",
    "    # Upload the DataFrame to BigQuery using the loaded OAuth credentials\n",
    "    to_gbq(df, table_id1, project_id=project_id, if_exists='append', credentials=credentials)\n",
    "    to_gbq(df2, table_id2, project_id=project_id, if_exists='append', credentials=credentials)\n",
    "    print(f\"DataFrame written to BigQuery table: {table_id1} , {table_id2}using OAuth 2.0 credentials from: {oauth_credentials_path}\")\n",
    "\n",
    "except Exception as e:\n",
    "    print(f\"An error occurred during BigQuery upload with OAuth 2.0 credentials: {e}\")"
   ]
  }
 ],
 "metadata": {
  "kernelspec": {
   "display_name": "Python 3",
   "language": "python",
   "name": "python3"
  },
  "language_info": {
   "codemirror_mode": {
    "name": "ipython",
    "version": 3
   },
   "file_extension": ".py",
   "mimetype": "text/x-python",
   "name": "python",
   "nbconvert_exporter": "python",
   "pygments_lexer": "ipython3",
   "version": "3.11.5"
  }
 },
 "nbformat": 4,
 "nbformat_minor": 5
}
