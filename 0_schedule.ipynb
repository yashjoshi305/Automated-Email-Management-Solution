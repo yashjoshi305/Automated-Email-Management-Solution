{
 "cells": [
  {
   "cell_type": "code",
   "execution_count": 1,
   "id": "9c422563",
   "metadata": {},
   "outputs": [],
   "source": [
    "\n",
    "import schedule\n",
    "import time\n",
    "import subprocess\n",
    "import os"
   ]
  },
  {
   "cell_type": "code",
   "execution_count": null,
   "id": "2b56d91d",
   "metadata": {},
   "outputs": [],
   "source": [
    "\n",
    "\n",
    "def run_script(script_path):\n",
    "    \"\"\"Runs the script using subprocess.\"\"\"\n",
    "    try:\n",
    "        print(f\"Running script: {script_path} at {time.strftime('%Y-%m-%d %H:%M:%S')}\")\n",
    "        process = subprocess.Popen(['python', script_path], stdout=subprocess.PIPE, stderr=subprocess.PIPE)\n",
    "        stdout, stderr = process.communicate()\n",
    "        if stdout:\n",
    "            print(\"Script output:\\n\", stdout.decode())\n",
    "        if stderr:\n",
    "            print(\"Script errors:\\n\", stderr.decode())\n",
    "    except FileNotFoundError:\n",
    "        print(f\"Error: Script not found at {script_path}\")\n",
    "    except Exception as e:\n",
    "        print(f\"An error occurred while running {script_path}: {e}\")\n",
    "\n",
    "\n",
    "\n",
    "script1_path = \"1_fetch.ipynb\"  \n",
    "schedule.every().day.at(\"10:00\").do(run_script, script_path=script1_path)\n",
    "\n",
    "script2_path = \"2_analyse.ipynb\"  \n",
    "schedule.every().day.at(\"10:15\").do(run_script, script_path=script2_path)\n",
    "\n",
    "script3_path = \"3_forward.ipynb\" \n",
    "schedule.every().day.at(\"10:30\").do(run_script, script_path=script3_path)\n",
    "\n",
    "script4_path = \"4_upload.ipynb\"  \n",
    "schedule.every().day.at(\"10:40\").do(run_script, script_path=script4_path)\n",
    "\n",
    "\n",
    "while True:\n",
    "    schedule.run_pending()\n",
    "    time.sleep(1)"
   ]
  }
 ],
 "metadata": {
  "kernelspec": {
   "display_name": "Python 3",
   "language": "python",
   "name": "python3"
  },
  "language_info": {
   "codemirror_mode": {
    "name": "ipython",
    "version": 3
   },
   "file_extension": ".py",
   "mimetype": "text/x-python",
   "name": "python",
   "nbconvert_exporter": "python",
   "pygments_lexer": "ipython3",
   "version": "3.11.5"
  }
 },
 "nbformat": 4,
 "nbformat_minor": 5
}
